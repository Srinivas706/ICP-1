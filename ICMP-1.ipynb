{
  "nbformat": 4,
  "nbformat_minor": 0,
  "metadata": {
    "colab": {
      "provenance": []
    },
    "kernelspec": {
      "name": "python3",
      "display_name": "Python 3"
    },
    "language_info": {
      "name": "python"
    }
  },
  "cells": [
    {
      "cell_type": "code",
      "execution_count": 7,
      "metadata": {
        "colab": {
          "base_uri": "https://localhost:8080/"
        },
        "id": "A8FlPibmQ9ID",
        "outputId": "6316854f-c149-4973-8bfb-b8a27ace71f8"
      },
      "outputs": [
        {
          "output_type": "stream",
          "name": "stdout",
          "text": [
            "noht\n",
            "Enter the sentence: I love playing with python\n",
            "Modified sentence:  I love playing with pythons\n"
          ]
        }
      ],
      "source": [
        "# Check if 'input' has not been overridden\n",
        "if 'input' in globals():\n",
        "    del input  # Remove any accidental reassignment of 'input'\n",
        "\n",
        "# Part 1: Modify and reverse the string \"python\"\n",
        "input_string = \"python\"\n",
        "char_list = list(input_string)\n",
        "\n",
        "if len(char_list) >= 2:\n",
        "    del char_list[:2]\n",
        "    char_list.reverse()\n",
        "\n",
        "reversed_string = ''.join(char_list)\n",
        "print(reversed_string)\n",
        "\n",
        "# Part 2: Modify the sentence\n",
        "sentence = input(\"Enter the sentence: \")\n",
        "mod_sentence = sentence.replace('python', 'pythons')\n",
        "print(\"Modified sentence: \", mod_sentence)\n"
      ]
    },
    {
      "cell_type": "code",
      "source": [
        "i = int(input())\n",
        "j = int(input())\n",
        "print(i+j)\n",
        "print(i-j)\n",
        "print(i*j)\n",
        "print(i//j)\n",
        "print(i%j)"
      ],
      "metadata": {
        "colab": {
          "base_uri": "https://localhost:8080/"
        },
        "id": "URf87G4ewLeg",
        "outputId": "cb6ef289-1b2f-41e5-d5f7-77632412ca46"
      },
      "execution_count": 13,
      "outputs": [
        {
          "output_type": "stream",
          "name": "stdout",
          "text": [
            "2\n",
            "4\n",
            "6\n",
            "-2\n",
            "8\n",
            "0\n",
            "2\n"
          ]
        }
      ]
    },
    {
      "cell_type": "code",
      "source": [
        "class_score = float(input(\"Enter the class score: \"))\n",
        "\n",
        "if class_score >= 95:\n",
        "    letter_grade = 'A'\n",
        "elif class_score >= 85:\n",
        "    letter_grade = 'B'\n",
        "elif class_score >= 70:\n",
        "    letter_grade = 'C'\n",
        "elif class_score >= 60:\n",
        "    letter_grade = 'D'\n",
        "else:\n",
        "    letter_grade = 'F'\n",
        "\n",
        "print(f\"Grade for {class_score} is: {letter_grade}\")\n"
      ],
      "metadata": {
        "colab": {
          "base_uri": "https://localhost:8080/"
        },
        "id": "sXrxTB6CTWaM",
        "outputId": "827e8e35-2e16-4572-c274-2c42b04f9ece"
      },
      "execution_count": 12,
      "outputs": [
        {
          "output_type": "stream",
          "name": "stdout",
          "text": [
            "Enter the class score: 82\n",
            "Grade for 82.0 is: C\n"
          ]
        }
      ]
    },
    {
      "cell_type": "code",
      "source": [],
      "metadata": {
        "id": "KYnApR7Fm5w6"
      },
      "execution_count": null,
      "outputs": []
    }
  ]
}